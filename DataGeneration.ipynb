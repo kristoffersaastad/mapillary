{
 "cells": [
  {
   "cell_type": "code",
   "execution_count": 16,
   "metadata": {},
   "outputs": [],
   "source": [
    "import requests\n",
    "import json\n",
    "import itertools\n"
   ]
  },
  {
   "cell_type": "code",
   "execution_count": 17,
   "metadata": {},
   "outputs": [],
   "source": [
    "# Initial requests from API url (23.08.19)\n",
    "config = readJson(\"config.json\")\n",
    "client_id=config[\"client_id\"]\n",
    "elev_key = config[\"elevation_key\"]\n",
    "test_area = config[\"test_area\"]\n",
    "\n",
    "#Mapillary\n",
    "def requestImageById(image_key):\n",
    "    request = requests.get(\"https://a.mapillary.com/v3/images/\"+image_key+\"?client_id=\"+client_id)\n",
    "    return request.json()\n",
    "\n",
    "def requestSequencesByBbox(ul, lr):\n",
    "    # i prefer [lat, lng], so have to keep that in mind\n",
    "    # request of bbox is box=minx,miny,maxx,maxy=ul_lng, lr_lat, lr_lng, ul_lat\n",
    "    request = requests.get(f\"https://a.mapillary.com/v3/sequences?bbox={ul[1]},{lr[0]},{lr[1]},{ul[0]}&per_page=10000&client_id={client_id}\")\n",
    "    return request.json()\n",
    "\n",
    "def requestSequenceById(sequence_key):\n",
    "    request = requests.get(\"https://a.mapillary.com/v3/sequences/\"+sequence_key+\"?client_id=\"+client_id)\n",
    "    return request.json()\n",
    "\n",
    "def requestImagesBySequence(sequence_key):\n",
    "    request = requests.get(\"https://a.mapillary.com/v3/images/?sequence_keys=\"+sequence_key+\"&per_page=10000&client_id=\"+client_id)\n",
    "    return request.json()"
   ]
  },
  {
   "cell_type": "code",
   "execution_count": 44,
   "metadata": {},
   "outputs": [],
   "source": [
    "# Mapillary API allows max 1000 sequences per area, so if the number of sequences>1000, i split in 4 and request for new areas\n",
    "def get_all_sequences_in_area(bbox):\n",
    "    ul, lr = bbox\n",
    "    areas = [[ul, lr]]\n",
    "    done = []\n",
    "    max_retrieved = 1000\n",
    "    while(True):\n",
    "        new_areas = []\n",
    "        for (ul_i, lr_i) in areas:   \n",
    "            request = requestSequencesByBbox(ul_i, lr_i)\n",
    "            if(len(request[\"features\"])<max_retrieved):\n",
    "                done.append(request[\"features\"])\n",
    "            else:\n",
    "                split_lat = ul_i[0]+(lr_i[0]-ul_i[0])/2\n",
    "                split_lng = lr_i[1]+(ul_i[1]-lr_i[1])/2\n",
    "                split = [split_lat, split_lng]\n",
    "                new_areas.append([ul_i,split])\n",
    "                new_areas.append([[split[0], ul_i[1]],[lr_i[0], split[1]]])\n",
    "                new_areas.append([[ul_i[0], split[1]],[split[0], lr_i[1]]])\n",
    "                new_areas.append([split, lr_i])\n",
    "        if(len(new_areas)==0):\n",
    "            break\n",
    "        else:\n",
    "            areas = new_areas\n",
    "    \n",
    "    return {\n",
    "        \"type\":\"FeatureCollection\",\n",
    "        \"features\":list(itertools.chain.from_iterable(done))\n",
    "    }\n",
    "\n",
    "def write_data(data):\n",
    "    to_file = \"mapillary_data.json\"\n",
    "    features = []\n",
    "    for i, seq in enumerate(data[\"features\"]):\n",
    "        _id =seq[\"properties\"][\"key\"]\n",
    "        display(images = requestImagesBySequence(_id)[\"features\"])\n",
    "        features.append({\n",
    "            \"id\":_id,\n",
    "            \"images\":images\n",
    "        })\n",
    "        \n",
    "    with open(to_file, \"w+\") as f:\n",
    "        json.dump({\n",
    "            \"type\":\"FeatureCollection\",\n",
    "            \"features\":features\n",
    "        }, f)"
   ]
  },
  {
   "cell_type": "code",
   "execution_count": 29,
   "metadata": {},
   "outputs": [],
   "source": [
    "data = get_all_sequences_in_area(test_area)"
   ]
  },
  {
   "cell_type": "code",
   "execution_count": 43,
   "metadata": {},
   "outputs": [],
   "source": [
    "write_data(data)"
   ]
  },
  {
   "cell_type": "code",
   "execution_count": null,
   "metadata": {},
   "outputs": [],
   "source": []
  }
 ],
 "metadata": {
  "kernelspec": {
   "display_name": "Python 3",
   "language": "python",
   "name": "python3"
  },
  "language_info": {
   "codemirror_mode": {
    "name": "ipython",
    "version": 3
   },
   "file_extension": ".py",
   "mimetype": "text/x-python",
   "name": "python",
   "nbconvert_exporter": "python",
   "pygments_lexer": "ipython3",
   "version": "3.6.8"
  }
 },
 "nbformat": 4,
 "nbformat_minor": 2
}
