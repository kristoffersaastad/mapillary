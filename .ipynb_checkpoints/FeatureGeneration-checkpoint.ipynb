{
 "cells": [
  {
   "cell_type": "code",
   "execution_count": 1,
   "metadata": {},
   "outputs": [],
   "source": [
    "# NOTES\n",
    "\n",
    "# Mind map\n",
    "# https://miro.com/app/board/o9J_kwo5k8s=/\n",
    "\n",
    "# Prediction labels\n",
    "# [       0     ,      1    ,   2  ]\n",
    "# [\"pedestrian\" , \"bicycle\" , \"car\"]\n",
    "\n",
    "# Coordinate format: [longitude, latitude]\n",
    "\n",
    "# Time format used:\n",
    "# \"%Y-%m-%dT%H:%M:%S.%fZ\"\n",
    "\n",
    "# Sequence format: Geojson\n",
    "#     type\n",
    "#     properties:\n",
    "#       captured_at (start of sequence)\n",
    "#       coordinateProperties\n",
    "#         cas (camera angle between 0 and 360)\n",
    "#         image_keys\n",
    "#     geometry\n",
    "#       coordinates [longitude, latitude]\n",
    "\n",
    "# Image format: Geojson\n",
    "#    type\n",
    "#    properties:\n",
    "#       captured_at, \n",
    "#       camera_model, camera_make, ca, pano, seq_key, key, username, user_key\n",
    "#    geometry\n",
    "    \n",
    "\n",
    "# Potential features\n",
    "#     Average velocity\n",
    "#     Maximum velocity\n",
    "#     Maximum stop time (calculate time between neighbours points relative to avg speed)\n",
    "#     Possible to use CAS coordinate property to estimte slope and the difference in velocity?\n",
    "#     Smallest turn (small turn will indicate not a car road)\n",
    "#     Trajectory measurements\n",
    "#     length\n",
    "#     \n",
    "#     \n",
    "#     Image detection\n",
    "#       Traffic lights (number or boolean)\n",
    "#       Roundabouts (number or boolean)\n",
    "#       Bicycle tracks on the side\n",
    "#       Highway/number or lanes\n",
    "#       Sidewalk\n"
   ]
  },
  {
   "cell_type": "markdown",
   "metadata": {},
   "source": [
    "# Imports"
   ]
  },
  {
   "cell_type": "code",
   "execution_count": 2,
   "metadata": {},
   "outputs": [],
   "source": [
    "# Imports\n",
    "import json\n",
    "import math\n",
    "import numpy as np\n",
    "from datetime import datetime, date\n",
    "from pprint import pprint as pp\n"
   ]
  },
  {
   "cell_type": "markdown",
   "metadata": {},
   "source": [
    "# Utility functions"
   ]
  },
  {
   "cell_type": "code",
   "execution_count": 3,
   "metadata": {},
   "outputs": [],
   "source": [
    "# Utility functions\n",
    "def readJson(file):\n",
    "    with open(file,\"r\") as f:\n",
    "        rf=json.load(f)\n",
    "    return rf\n",
    "\n",
    "def printProgressBar (iteration, total, prefix = '', suffix = '', decimals = 1, length = 100, fill = '█'):\n",
    "    \"\"\"\n",
    "    Call in a loop to create terminal progress bar\n",
    "    @params:\n",
    "        iteration   - Required  : current iteration (Int)\n",
    "        total       - Required  : total iterations (Int)\n",
    "        prefix      - Optional  : prefix string (Str)\n",
    "        suffix      - Optional  : suffix string (Str)\n",
    "        decimals    - Optional  : positive number of decimals in percent complete (Int)\n",
    "        length      - Optional  : character length of bar (Int)\n",
    "        fill        - Optional  : bar fill character (Str)\n",
    "    \"\"\"\n",
    "    percent = (\"{0:.\" + str(decimals) + \"f}\").format(100 * (iteration / float(total)))\n",
    "    filledLength = int(length * iteration // total)\n",
    "    bar = fill * filledLength + '-' * (length - filledLength)\n",
    "    print('\\r%s |%s| %s%% %s' % (prefix, bar, percent, suffix), end = '\\r')\n",
    "    # Print New Line on Complete\n",
    "    if iteration == total: \n",
    "        print()\n",
    "\n"
   ]
  },
  {
   "cell_type": "markdown",
   "metadata": {},
   "source": [
    "# Feature functions"
   ]
  },
  {
   "cell_type": "code",
   "execution_count": 47,
   "metadata": {},
   "outputs": [],
   "source": [
    "# Functions\n",
    "def avg_speed_n_forward(sequence, start,n):\n",
    "    return 0\n",
    "\n",
    "def height_calculations(images):\n",
    "    request = \"\"\n",
    "    data = []\n",
    "    print(images)\n",
    "    for im in images:\n",
    "        data.append[im]\n",
    "    return 0,0\n",
    "\n",
    "def calc_sd(feat_list):\n",
    "    mean = sum(feat_list)/len(feat_list)\n",
    "    feat_list = list(map(lambda x: (x-mean)**2, feat_list))\n",
    "    \n",
    "    return np.sqrt(sum(feat_list)/len(feat_list))"
   ]
  },
  {
   "cell_type": "code",
   "execution_count": 48,
   "metadata": {},
   "outputs": [
    {
     "data": {
      "text/plain": [
       "1.118033988749895"
      ]
     },
     "execution_count": 48,
     "metadata": {},
     "output_type": "execute_result"
    }
   ],
   "source": [
    "calc_sd([1,2,3,4])"
   ]
  },
  {
   "cell_type": "code",
   "execution_count": 62,
   "metadata": {},
   "outputs": [],
   "source": [
    "class Sequence:\n",
    "    def __init__(self, sequence):\n",
    "        #{type:\"FeatureCollection\",features:[{id,images},{id,images},...]\n",
    "        self.id = sequence[\"id\"]\n",
    "        self.images = sequence[\"images\"]\n",
    "        self.iterate()\n",
    "    \n",
    "    def iterate(self):\n",
    "        if(len(self.images)<2):\n",
    "            return 0\n",
    "        num_segments = len(self.images)-1\n",
    "        dist = duration = max_speed = max_accel = num_stops = 0\n",
    "        min_speed = min_accel = 100000\n",
    "        sum_speed = sum_accel = 0\n",
    "        speeds = []\n",
    "        accels = []\n",
    "        \n",
    "        prev = self.images[0]\n",
    "        prev_speed = 0\n",
    "        \n",
    "        percent_within = [0,0,0]\n",
    "        \n",
    "        for i,feat in enumerate(self.images[1:]):\n",
    "            feat_dist = self.distance(prev[\"geometry\"][\"coordinates\"], feat[\"geometry\"][\"coordinates\"])\n",
    "            feat_time = datetime.strptime(feat[\"properties\"][\"captured_at\"], \"%Y-%m-%dT%H:%M:%S.%fZ\")\n",
    "            prev_time = datetime.strptime(prev[\"properties\"][\"captured_at\"], \"%Y-%m-%dT%H:%M:%S.%fZ\")\n",
    "            feat_dur = abs(feat_time-prev_time).total_seconds()\n",
    "            \n",
    "            feat_speed = 0 if feat_dur==0.0 else feat_dist/feat_dur\n",
    "            feat_accel = prev_speed-feat_speed/feat_dur if feat_dur!=0.0 else 0\n",
    "            \n",
    "            percent_within[self.isWithinMeanSpeed(feat_speed)] += 1\n",
    "            # speed features\n",
    "            if(feat_speed<min_speed):\n",
    "                min_speed = feat_speed\n",
    "            if(feat_speed>max_speed):\n",
    "                max_speed = feat_speed\n",
    "            if(feat_speed<0.5):\n",
    "                num_stops += 1\n",
    "            # acceleration features\n",
    "            if(feat_accel>max_accel and i>0):\n",
    "                max_accel = feat_accel\n",
    "            if(feat_accel<min_accel):\n",
    "                min_accel = feat_accel\n",
    "            \n",
    "            speeds.append(feat_speed)\n",
    "            accels.append(feat_accel)\n",
    "            \n",
    "            dist+=feat_dist\n",
    "            duration+=feat_dur\n",
    "            sum_speed+=feat_speed\n",
    "            sum_accel+=feat_accel\n",
    "            prev = feat\n",
    "            prev_speed = feat_speed\n",
    "        \n",
    "        sd_speed,sd_accel = calc_sd(speeds),calc_sd(accels)\n",
    "        \n",
    "        print(speeds[0], accels[0])\n",
    "        \n",
    "        self.avg_speed = 0 if duration==0.0 else dist/duration\n",
    "        self.max_speed = max_speed\n",
    "        self.max_accel = max_accel\n",
    "        self.percent_ped_speed = 100*percent_within[0]/num_segments\n",
    "        self.percent_bic_speed = 100*percent_within[1]/num_segments\n",
    "        self.percent_car_speed = 100*percent_within[2]/num_segments\n",
    "        self.num_stops = num_stops\n",
    "        self.distance = dist\n",
    "        self.duration = duration\n",
    "    \n",
    "    def get_feature_names(self):\n",
    "        features = vars(self)\n",
    "        excluded_keys = {\"images\"}\n",
    "        return [x for x in features if x not in excluded_keys]\n",
    "    \n",
    "    def get_features(self):\n",
    "        features = vars(self)\n",
    "        excluded_keys = {\"images\"}\n",
    "        return [features[x] for x in features if x not in excluded_keys]\n",
    "    \n",
    "    def distance(self, start, end):\n",
    "        deg2rad = self.deg2rad\n",
    "        start = [deg2rad(start[0]),deg2rad(start[1])]\n",
    "        end = [deg2rad(end[0]),deg2rad(end[1])]\n",
    "\n",
    "        R =  6373000\n",
    "        lon1, lat1, lon2, lat2 = start[0], start[1], end[0], end[1]\n",
    "        dlon = lon2 - lon1\n",
    "        dlat = lat2 - lat1\n",
    "        a = (math.sin(dlat/2)**2)+math.cos(lat1)*math.cos(lat2)*math.sin(dlon/2)**2\n",
    "        c = 2*math.atan2(math.sqrt(a), math.sqrt(1-a))\n",
    "        return R*c\n",
    "    \n",
    "    @staticmethod\n",
    "    def deg2rad(deg):\n",
    "        return deg*(math.pi/180)\n",
    "    \n",
    "    @staticmethod\n",
    "    def isWithinMeanSpeed(speed):\n",
    "        # From research in order to calculate the percentage of \"within expected speeds\"\n",
    "        mean_ped_speed = 1.3\n",
    "        mean_bic_speed = 3.5\n",
    "        mean_car_speed = 13.8888889\n",
    "        sd_ped = 0.3\n",
    "        sd_bic = 0.6\n",
    "        sd_lower_car = 2.777777777777778\n",
    "        if(abs(mean_ped_speed-speed)<sd_ped):\n",
    "            return 0\n",
    "        elif(abs(mean_bic_speed-speed)<sd_bic):\n",
    "            return 1\n",
    "        elif(speed>(mean_car_speed-sd_lower_car)):\n",
    "            return 2\n",
    "        else:\n",
    "            return False"
   ]
  },
  {
   "cell_type": "code",
   "execution_count": 63,
   "metadata": {
    "scrolled": true
   },
   "outputs": [
    {
     "name": "stdout",
     "output_type": "stream",
     "text": [
      "0.9895755142741605 0.9895755142741605\n"
     ]
    }
   ],
   "source": [
    "self = Sequence(data[\"features\"][1])"
   ]
  },
  {
   "cell_type": "code",
   "execution_count": 6,
   "metadata": {},
   "outputs": [],
   "source": [
    "# write features for an area\n",
    "def area_features(data, write=False, stop_early=False, sample_size=20):\n",
    "    num_seq = len(data[\"features\"])\n",
    "    print(f\"[INFO] {num_seq} sequences:\")\n",
    "    label_names = (\",\").join(Sequence(data[\"features\"][0]).get_feature_names()[1:])+\",id\\n\"\n",
    "    f = open(\"training_data/features.csv\", \"w+\")\n",
    "    if(write==True):\n",
    "        f.write(label_names)\n",
    "    for num, seq in enumerate(data[\"features\"]):\n",
    "        if(stop_early==True and num>sample_size-1):\n",
    "            break\n",
    "        printProgressBar(num, num_seq)\n",
    "        seq = Sequence(seq)\n",
    "        if(len(seq.images) < 2):\n",
    "            continue\n",
    "#         avg_height_diff, max_height_diff = height_calculations(images)\n",
    "        \n",
    "#         if(dist==0 or avg_speed==0):\n",
    "#             continue\n",
    "        if(write==True):\n",
    "            s = \"\"\n",
    "            features = seq.get_features()\n",
    "            for feat in features[1:]:\n",
    "                s += f\"{feat},\"\n",
    "            f.write(f\"{s}{features[0]}\\n\")\n",
    "    f.close()\n",
    "    print(\"[INFO] Done generating features\")"
   ]
  },
  {
   "cell_type": "code",
   "execution_count": 7,
   "metadata": {},
   "outputs": [],
   "source": [
    "data = readJson(\"mapillary_data/mapillary_data.json\")"
   ]
  },
  {
   "cell_type": "code",
   "execution_count": 1,
   "metadata": {},
   "outputs": [
    {
     "ename": "NameError",
     "evalue": "name 'area_features' is not defined",
     "output_type": "error",
     "traceback": [
      "\u001b[0;31m---------------------------------------------------------------------------\u001b[0m",
      "\u001b[0;31mNameError\u001b[0m                                 Traceback (most recent call last)",
      "\u001b[0;32m<ipython-input-1-2da092d6dbfd>\u001b[0m in \u001b[0;36m<module>\u001b[0;34m\u001b[0m\n\u001b[0;32m----> 1\u001b[0;31m \u001b[0marea_features\u001b[0m\u001b[0;34m(\u001b[0m\u001b[0mdata\u001b[0m\u001b[0;34m,\u001b[0m \u001b[0mstop_early\u001b[0m\u001b[0;34m=\u001b[0m\u001b[0;32mFalse\u001b[0m\u001b[0;34m,\u001b[0m \u001b[0mwrite\u001b[0m\u001b[0;34m=\u001b[0m\u001b[0;32mTrue\u001b[0m\u001b[0;34m)\u001b[0m\u001b[0;34m\u001b[0m\u001b[0;34m\u001b[0m\u001b[0m\n\u001b[0m",
      "\u001b[0;31mNameError\u001b[0m: name 'area_features' is not defined"
     ]
    }
   ],
   "source": [
    "area_features(data, stop_early=False, write=True)"
   ]
  },
  {
   "cell_type": "code",
   "execution_count": null,
   "metadata": {},
   "outputs": [],
   "source": []
  }
 ],
 "metadata": {
  "kernelspec": {
   "display_name": "Python 3",
   "language": "python",
   "name": "python3"
  },
  "language_info": {
   "codemirror_mode": {
    "name": "ipython",
    "version": 3
   },
   "file_extension": ".py",
   "mimetype": "text/x-python",
   "name": "python",
   "nbconvert_exporter": "python",
   "pygments_lexer": "ipython3",
   "version": "3.6.8"
  }
 },
 "nbformat": 4,
 "nbformat_minor": 2
}
