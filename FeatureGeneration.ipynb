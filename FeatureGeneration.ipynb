{
 "cells": [
  {
   "cell_type": "code",
   "execution_count": 8,
   "metadata": {},
   "outputs": [],
   "source": [
    "# NOTES\n",
    "\n",
    "# Mind map\n",
    "# https://miro.com/app/board/o9J_kwo5k8s=/\n",
    "\n",
    "# Prediction labels\n",
    "# [       0     ,      1    ,   2  ]\n",
    "# [\"pedestrian\" , \"bicycle\" , \"car\"]\n",
    "\n",
    "# Coordinate format: [longitude, latitude]\n",
    "\n",
    "# Time format used:\n",
    "# \"%Y-%m-%dT%H:%M:%S.%fZ\"\n",
    "\n",
    "# Sequence format: Geojson\n",
    "#     type\n",
    "#     properties:\n",
    "#       captured_at (start of sequence)\n",
    "#       coordinateProperties\n",
    "#         cas (camera angle between 0 and 360)\n",
    "#         image_keys\n",
    "#     geometry\n",
    "#       coordinates [longitude, latitude]\n",
    "\n",
    "# Image format: Geojson\n",
    "#    type\n",
    "#    properties:\n",
    "#       captured_at, \n",
    "#       camera_model, camera_make, ca, pano, seq_key, key, username, user_key\n",
    "#    geometry\n",
    "    \n",
    "\n",
    "# Potential features\n",
    "#     Average velocity\n",
    "#     Maximum velocity\n",
    "#     Maximum stop time (calculate time between neighbours points relative to avg speed)\n",
    "#     Possible to use CAS coordinate property to estimte slope and the difference in velocity?\n",
    "#     Smallest turn (small turn will indicate not a car road)\n",
    "#     Trajectory measurements\n",
    "#     length\n",
    "#     \n",
    "#     \n",
    "#     Image detection\n",
    "#       Traffic lights (number or boolean)\n",
    "#       Roundabouts (number or boolean)\n",
    "#       Bicycle tracks on the side\n",
    "#       Highway/number or lanes\n",
    "#       Sidewalk\n",
    "\n",
    "# Features columns\n",
    "# 0 =label, 1 = seq_id, 2 = avg_speed(m/s) "
   ]
  },
  {
   "cell_type": "markdown",
   "metadata": {},
   "source": [
    "# Imports"
   ]
  },
  {
   "cell_type": "code",
   "execution_count": 181,
   "metadata": {},
   "outputs": [],
   "source": [
    "# Imports\n",
    "import json\n",
    "import math\n",
    "import numpy as np\n",
    "from datetime import datetime, date\n",
    "from pprint import pprint as pp\n"
   ]
  },
  {
   "cell_type": "markdown",
   "metadata": {},
   "source": [
    "# Utility functions"
   ]
  },
  {
   "cell_type": "code",
   "execution_count": 182,
   "metadata": {},
   "outputs": [],
   "source": [
    "# Utility functions\n",
    "def readJson(file):\n",
    "    with open(file,\"r\") as f:\n",
    "        rf=json.load(f)\n",
    "    return rf\n",
    "\n",
    "def printProgressBar (iteration, total, prefix = '', suffix = '', decimals = 1, length = 100, fill = '█'):\n",
    "    \"\"\"\n",
    "    Call in a loop to create terminal progress bar\n",
    "    @params:\n",
    "        iteration   - Required  : current iteration (Int)\n",
    "        total       - Required  : total iterations (Int)\n",
    "        prefix      - Optional  : prefix string (Str)\n",
    "        suffix      - Optional  : suffix string (Str)\n",
    "        decimals    - Optional  : positive number of decimals in percent complete (Int)\n",
    "        length      - Optional  : character length of bar (Int)\n",
    "        fill        - Optional  : bar fill character (Str)\n",
    "    \"\"\"\n",
    "    percent = (\"{0:.\" + str(decimals) + \"f}\").format(100 * (iteration / float(total)))\n",
    "    filledLength = int(length * iteration // total)\n",
    "    bar = fill * filledLength + '-' * (length - filledLength)\n",
    "    print('\\r%s |%s| %s%% %s' % (prefix, bar, percent, suffix), end = '\\r')\n",
    "    # Print New Line on Complete\n",
    "    if iteration == total: \n",
    "        print()\n",
    "\n"
   ]
  },
  {
   "cell_type": "markdown",
   "metadata": {},
   "source": [
    "# Feature functions"
   ]
  },
  {
   "cell_type": "code",
   "execution_count": 183,
   "metadata": {},
   "outputs": [],
   "source": [
    "# Functions\n",
    "def avg_speed_n_forward(sequence, start,n):\n",
    "    return 0\n",
    "\n",
    "def height_calculations(images):\n",
    "    request = \"\"\n",
    "    data = []\n",
    "    print(images)\n",
    "    for im in images:\n",
    "        data.append[im]\n",
    "    return 0,0"
   ]
  },
  {
   "cell_type": "code",
   "execution_count": 207,
   "metadata": {},
   "outputs": [],
   "source": [
    "class Sequence:\n",
    "    def __init__(self, sequence):\n",
    "        #{type:\"FeatureCollection\",features:[{id,images},{id,images},...]\n",
    "        self.id = sequence[\"id\"]\n",
    "        self.images = sequence[\"images\"]\n",
    "        self.iterate()\n",
    "    \n",
    "    def iterate(self):\n",
    "        if(len(self.images)==0):\n",
    "            return 0\n",
    "        dist = duration = max_speed = 0\n",
    "        prev = self.images[0]\n",
    "        \n",
    "        for feat in self.images[1:]:\n",
    "            feat_dist = distance(prev[\"geometry\"][\"coordinates\"], feat[\"geometry\"][\"coordinates\"])\n",
    "            feat_time = datetime.strptime(feat[\"properties\"][\"captured_at\"], \"%Y-%m-%dT%H:%M:%S.%fZ\")\n",
    "            prev_time = datetime.strptime(prev[\"properties\"][\"captured_at\"], \"%Y-%m-%dT%H:%M:%S.%fZ\")\n",
    "            feat_dur = abs(feat_time-prev_time).total_seconds()\n",
    "            feat_speed = 0 if feat_dur==0.0 else feat_dist/feat_dur\n",
    "            \n",
    "            if(feat_speed>max_speed):\n",
    "                max_speed = feat_speed\n",
    "            dist+=feat_dist\n",
    "            duration+=feat_dur\n",
    "            prev = feat\n",
    "        \n",
    "        self.avg_speed = 0 if duration==0.0 else dist/duration\n",
    "        self.max_speed = max_speed\n",
    "        self.distance = dist\n",
    "        self.duration = duration\n",
    "    \n",
    "    def get_features(self):\n",
    "        features = vars(self)\n",
    "        excluded_keys = {\"images\"}\n",
    "        return [features[x] for x in features if x not in excluded_keys]\n",
    "    \n",
    "    @staticmethod\n",
    "    def distance(start, end):\n",
    "        start = [deg2rad(start[0]),deg2rad(start[1])]\n",
    "        end = [deg2rad(end[0]),deg2rad(end[1])]\n",
    "\n",
    "        R =  6373000\n",
    "        lon1, lat1, lon2, lat2 = start[0], start[1], end[0], end[1]\n",
    "        dlon = lon2 - lon1\n",
    "        dlat = lat2 - lat1\n",
    "        a = (math.sin(dlat/2)**2)+math.cos(lat1)*math.cos(lat2)*math.sin(dlon/2)**2\n",
    "        c = 2*math.atan2(math.sqrt(a), math.sqrt(1-a))\n",
    "        return R*c\n",
    "    \n",
    "    @staticmethod\n",
    "    def deg2rad(deg):\n",
    "        return deg*(math.pi/180)\n",
    "    "
   ]
  },
  {
   "cell_type": "code",
   "execution_count": 208,
   "metadata": {},
   "outputs": [],
   "source": [
    "# write features for an area\n",
    "def area_features(data, write=False, stop_early=False, sample_size=20):\n",
    "    num_seq = len(data[\"features\"])\n",
    "    print(f\"[INFO] {num_seq} sequences:\")\n",
    "    f = open(\"training_data/features.csv\", \"w+\")\n",
    "    for num, seq in enumerate(data[\"features\"]):\n",
    "        if(stop_early==True and num>sample_size-1):\n",
    "            break\n",
    "        printProgressBar(num, num_seq)\n",
    "        seq = Sequence(seq)\n",
    "        if(len(seq.images) < 2):\n",
    "            continue\n",
    "#         avg_height_diff, max_height_diff = height_calculations(images)\n",
    "        \n",
    "#         if(dist==0 or avg_speed==0):\n",
    "#             continue\n",
    "        if(write==True):\n",
    "            s = \"\"\n",
    "            features = seq.get_features()\n",
    "            for feat in features[1:]:\n",
    "                s += f\"{feat},\"\n",
    "            f.write(f\"{s}{features[0]}\\n\")\n",
    "    f.close()\n",
    "    print(\"[INFO] Done generating features\")"
   ]
  },
  {
   "cell_type": "code",
   "execution_count": 199,
   "metadata": {},
   "outputs": [],
   "source": [
    "data = readJson(\"mapillary_data/mapillary_data.json\")"
   ]
  },
  {
   "cell_type": "code",
   "execution_count": 200,
   "metadata": {},
   "outputs": [],
   "source": [
    "self = Sequence(data[\"features\"][2140])"
   ]
  },
  {
   "cell_type": "code",
   "execution_count": 209,
   "metadata": {},
   "outputs": [
    {
     "name": "stdout",
     "output_type": "stream",
     "text": [
      "[INFO] 3039 sequences:\n",
      "[INFO] Done generating features██████████████████████████████████████████████████████████████████████-| 100.0% \n"
     ]
    }
   ],
   "source": [
    "area_features(data, stop_early=False, write=True)"
   ]
  },
  {
   "cell_type": "code",
   "execution_count": null,
   "metadata": {},
   "outputs": [],
   "source": []
  }
 ],
 "metadata": {
  "kernelspec": {
   "display_name": "Python 3",
   "language": "python",
   "name": "python3"
  },
  "language_info": {
   "codemirror_mode": {
    "name": "ipython",
    "version": 3
   },
   "file_extension": ".py",
   "mimetype": "text/x-python",
   "name": "python",
   "nbconvert_exporter": "python",
   "pygments_lexer": "ipython3",
   "version": "3.6.8"
  }
 },
 "nbformat": 4,
 "nbformat_minor": 2
}
