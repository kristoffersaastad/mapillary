{
 "cells": [
  {
   "cell_type": "code",
   "execution_count": 2,
   "metadata": {},
   "outputs": [],
   "source": [
    "import pandas as pd\n",
    "import numpy as np\n",
    "from keras.models import Sequential\n",
    "from keras.layers.core import Dense, Flatten, Dropout\n",
    "from keras.layers.convolutional import Conv1D\n",
    "from keras.layers.convolutional import MaxPooling1D\n",
    "from keras.optimizers import SGD\n",
    "from sklearn.preprocessing import LabelBinarizer\n",
    "from sklearn.model_selection import train_test_split"
   ]
  },
  {
   "cell_type": "code",
   "execution_count": null,
   "metadata": {},
   "outputs": [],
   "source": [
    "\n",
    "# Structure train and test data\n",
    "class_names = [\"Pedestrian\", \"Bicycle\", \"Car\"]\n",
    "n_classes = len(class_names)\n",
    "\n",
    "features = np.genfromtxt(\"features.tsv\", delimiter=\"\\t\")\n",
    "data = features[:,:-2]\n",
    "labels = features[:,-2].astype(int)\n",
    "\n",
    "(x_train, x_test, y_train, y_test) = train_test_split(data, labels, test_size=0.2, random_state=20)\n",
    "\n",
    "x_train = x_train.reshape(x_train.shape[0],x_train.shape[1],1)\n",
    "x_test = x_test.reshape(x_test.shape[0],x_test.shape[1],1)\n",
    "\n",
    "lb = LabelBinarizer()\n",
    "y_train = lb.fit_transform(y_train)\n",
    "y_test = lb.transform(y_test)\n",
    "print(x_train.shape, x_test.shape, y_train.shape, y_test.shape) \n",
    "x_train, x_test, y_train, y_test"
   ]
  },
  {
   "cell_type": "code",
   "execution_count": 3,
   "metadata": {},
   "outputs": [],
   "source": [
    "def train_model(x_train, x_test, y_train, y_test,epochs=10, lr=0.01):\n",
    "    model = Sequential()\n",
    "#     model.add(Dense(36, input_shape=(x_train.shape[1],), activation=\"sigmoid\"))\n",
    "#     model.add(Dense(18, activation=\"sigmoid\"))\n",
    "#     model.add(Dense(n_classes, activation=\"softmax\"))\n",
    "#     model.compile(loss=\"categorical_crossentropy\", optimizer=SGD(lr=lr),metrics=[\"accuracy\"])\n",
    "#     model.fit(x_train, y_train, validation_data=(x_test, y_test), epochs=epochs, batch_size=1)\n",
    "    input_shape = (x_train.shape[1],1)\n",
    "    model.add(Conv1D(filters=64,kernel_size=2,input_shape=input_shape, activation='relu'))\n",
    "    model.add(Dropout(0.5))\n",
    "    model.add(MaxPooling1D(pool_size=2))\n",
    "    model.add(Flatten())\n",
    "    model.add(Dense(100, activation='relu'))\n",
    "    model.add(Dense(n_classes, activation='softmax'))\n",
    "    model.compile(loss='categorical_crossentropy', optimizer='adam', metrics=['accuracy'])\n",
    "    \n",
    "    print(\"[INFO] Training network...\")\n",
    "    model.fit(x_train, y_train, epochs=100, verbose=0)\n",
    "    print(\"[INFO] Done training\")\n",
    "    return model\n",
    "\n",
    "def eval_model(model):\n",
    "    _, accuracy = model.evaluate(x_test, y_test, verbose=0)\n",
    "    print(\"Model accuracy:\",accuracy)\n"
   ]
  },
  {
   "cell_type": "code",
   "execution_count": null,
   "metadata": {},
   "outputs": [],
   "source": [
    "model = train_model(x_train, x_test, y_train, y_test, lr=0.01)\n",
    "eval_model(model)"
   ]
  }
 ],
 "metadata": {
  "kernelspec": {
   "display_name": "Python 3",
   "language": "python",
   "name": "python3"
  },
  "language_info": {
   "codemirror_mode": {
    "name": "ipython",
    "version": 3
   },
   "file_extension": ".py",
   "mimetype": "text/x-python",
   "name": "python",
   "nbconvert_exporter": "python",
   "pygments_lexer": "ipython3",
   "version": "3.6.8"
  }
 },
 "nbformat": 4,
 "nbformat_minor": 2
}
