{
 "cells": [
  {
   "cell_type": "code",
   "execution_count": 12,
   "metadata": {},
   "outputs": [],
   "source": [
    "import requests\n",
    "import json\n",
    "import pandas as pd\n",
    "import math\n",
    "from IPython.display import Image, display, clear_output\n"
   ]
  },
  {
   "cell_type": "code",
   "execution_count": 2,
   "metadata": {},
   "outputs": [],
   "source": [
    "def readJson(file):\n",
    "    with open(file,\"r\") as f:\n",
    "        rf=json.load(f)\n",
    "    return rf\n",
    "\n",
    "def readTsv(file):\n",
    "    with open(file, \"r\") as f:\n",
    "        rf=csv.DictReader(f, dialect='excel-tab')\n",
    "    return rf"
   ]
  },
  {
   "cell_type": "code",
   "execution_count": 3,
   "metadata": {},
   "outputs": [],
   "source": [
    "# Initial requests from API url (23.08.19)\n",
    "config = readJson(\"config.json\")\n",
    "client_id=config[\"client_id\"]\n",
    "elev_key = config[\"elevation_key\"]\n",
    "test_area = config[\"test_area\"]\n",
    "\n",
    "def requestImagesBySequence(sequence_key):\n",
    "    request = requests.get(\"https://a.mapillary.com/v3/images/?sequence_keys=\"+sequence_key+\"&per_page=10000&client_id=\"+client_id)\n",
    "    return request.json()"
   ]
  },
  {
   "cell_type": "code",
   "execution_count": 4,
   "metadata": {
    "scrolled": true
   },
   "outputs": [
    {
     "data": {
      "text/html": [
       "<div>\n",
       "<style scoped>\n",
       "    .dataframe tbody tr th:only-of-type {\n",
       "        vertical-align: middle;\n",
       "    }\n",
       "\n",
       "    .dataframe tbody tr th {\n",
       "        vertical-align: top;\n",
       "    }\n",
       "\n",
       "    .dataframe thead th {\n",
       "        text-align: right;\n",
       "    }\n",
       "</style>\n",
       "<table border=\"1\" class=\"dataframe\">\n",
       "  <thead>\n",
       "    <tr style=\"text-align: right;\">\n",
       "      <th></th>\n",
       "      <th>avg_speed</th>\n",
       "      <th>max_speed</th>\n",
       "      <th>distance</th>\n",
       "      <th>duration</th>\n",
       "      <th>id</th>\n",
       "    </tr>\n",
       "  </thead>\n",
       "  <tbody>\n",
       "    <tr>\n",
       "      <td>0</td>\n",
       "      <td>16.092218</td>\n",
       "      <td>25.961550</td>\n",
       "      <td>7917.451715</td>\n",
       "      <td>492.005</td>\n",
       "      <td>6lmxhlsdu2820pp9ewk41z</td>\n",
       "    </tr>\n",
       "    <tr>\n",
       "      <td>1</td>\n",
       "      <td>6.322339</td>\n",
       "      <td>12.872192</td>\n",
       "      <td>1132.324604</td>\n",
       "      <td>179.099</td>\n",
       "      <td>g234mtreigui4a64i4xea9</td>\n",
       "    </tr>\n",
       "    <tr>\n",
       "      <td>2</td>\n",
       "      <td>1.275309</td>\n",
       "      <td>2.196088</td>\n",
       "      <td>366.273853</td>\n",
       "      <td>287.204</td>\n",
       "      <td>hwt93drmgmyk3pnt7hib08</td>\n",
       "    </tr>\n",
       "    <tr>\n",
       "      <td>3</td>\n",
       "      <td>1.210824</td>\n",
       "      <td>2.395365</td>\n",
       "      <td>562.095759</td>\n",
       "      <td>464.226</td>\n",
       "      <td>9gmnn1cdfv7vbptl9p83u2</td>\n",
       "    </tr>\n",
       "    <tr>\n",
       "      <td>4</td>\n",
       "      <td>1.313297</td>\n",
       "      <td>2.017232</td>\n",
       "      <td>126.595226</td>\n",
       "      <td>96.395</td>\n",
       "      <td>18ejk5cjxixj051qiupxyb</td>\n",
       "    </tr>\n",
       "    <tr>\n",
       "      <td>...</td>\n",
       "      <td>...</td>\n",
       "      <td>...</td>\n",
       "      <td>...</td>\n",
       "      <td>...</td>\n",
       "      <td>...</td>\n",
       "    </tr>\n",
       "    <tr>\n",
       "      <td>2693</td>\n",
       "      <td>1.262569</td>\n",
       "      <td>4.445656</td>\n",
       "      <td>508.815282</td>\n",
       "      <td>403.000</td>\n",
       "      <td>685p3jdyxdzwqswrdiznr3</td>\n",
       "    </tr>\n",
       "    <tr>\n",
       "      <td>2694</td>\n",
       "      <td>1.237501</td>\n",
       "      <td>4.137055</td>\n",
       "      <td>2234.277163</td>\n",
       "      <td>1805.475</td>\n",
       "      <td>ZJHnYlGbTkqUfi4DAxWBKw</td>\n",
       "    </tr>\n",
       "    <tr>\n",
       "      <td>2695</td>\n",
       "      <td>1.291060</td>\n",
       "      <td>12.306978</td>\n",
       "      <td>679.097605</td>\n",
       "      <td>526.000</td>\n",
       "      <td>Jrj8SnPk8c08pvkAZ_gEyw</td>\n",
       "    </tr>\n",
       "    <tr>\n",
       "      <td>2696</td>\n",
       "      <td>1.691342</td>\n",
       "      <td>7.648178</td>\n",
       "      <td>717.128975</td>\n",
       "      <td>424.000</td>\n",
       "      <td>vUubFKacybDCobluHgcKUw</td>\n",
       "    </tr>\n",
       "    <tr>\n",
       "      <td>2697</td>\n",
       "      <td>1.617564</td>\n",
       "      <td>10.031580</td>\n",
       "      <td>1315.079508</td>\n",
       "      <td>813.000</td>\n",
       "      <td>wuyAqHYQN3VivgbYVsIIDQ</td>\n",
       "    </tr>\n",
       "  </tbody>\n",
       "</table>\n",
       "<p>2698 rows × 5 columns</p>\n",
       "</div>"
      ],
      "text/plain": [
       "      avg_speed  max_speed     distance  duration                      id\n",
       "0     16.092218  25.961550  7917.451715   492.005  6lmxhlsdu2820pp9ewk41z\n",
       "1      6.322339  12.872192  1132.324604   179.099  g234mtreigui4a64i4xea9\n",
       "2      1.275309   2.196088   366.273853   287.204  hwt93drmgmyk3pnt7hib08\n",
       "3      1.210824   2.395365   562.095759   464.226  9gmnn1cdfv7vbptl9p83u2\n",
       "4      1.313297   2.017232   126.595226    96.395  18ejk5cjxixj051qiupxyb\n",
       "...         ...        ...          ...       ...                     ...\n",
       "2693   1.262569   4.445656   508.815282   403.000  685p3jdyxdzwqswrdiznr3\n",
       "2694   1.237501   4.137055  2234.277163  1805.475  ZJHnYlGbTkqUfi4DAxWBKw\n",
       "2695   1.291060  12.306978   679.097605   526.000  Jrj8SnPk8c08pvkAZ_gEyw\n",
       "2696   1.691342   7.648178   717.128975   424.000  vUubFKacybDCobluHgcKUw\n",
       "2697   1.617564  10.031580  1315.079508   813.000  wuyAqHYQN3VivgbYVsIIDQ\n",
       "\n",
       "[2698 rows x 5 columns]"
      ]
     },
     "execution_count": 4,
     "metadata": {},
     "output_type": "execute_result"
    }
   ],
   "source": [
    "# data = readJson(\"mapillary_data.json\")\n",
    "feature_names = [\"avg_speed\",\"max_speed\",\"distance\", \"duration\", \"id\"]\n",
    "data = pd.read_csv(\"training_data/features.csv\", names=feature_names)\n",
    "data"
   ]
  },
  {
   "cell_type": "code",
   "execution_count": 5,
   "metadata": {},
   "outputs": [
    {
     "data": {
      "text/plain": [
       "16.092217995524038"
      ]
     },
     "execution_count": 5,
     "metadata": {},
     "output_type": "execute_result"
    }
   ],
   "source": [
    "data.iloc[0][\"avg_speed\"]"
   ]
  },
  {
   "cell_type": "code",
   "execution_count": null,
   "metadata": {
    "scrolled": true
   },
   "outputs": [],
   "source": [
    "index_to_start = pd.read_csv(\"sequence_labels.csv\", header=None).shape[0]\n",
    "f = open(\"sequence_labels.csv\", \"a+\")\n",
    "a = \"\"\n",
    "num = data.shape[0]\n",
    "for i, seq in enumerate(data[\"id\"][index_to_start:], index_to_start):\n",
    "    print(f\"[INFO]\\nprogress:{i}/{num}\\n\")\n",
    "    images = requestImagesBySequence(seq)[\"features\"]\n",
    "    if(a==\"q\"):\n",
    "        break\n",
    "    interval = math.ceil(len(images)/5)\n",
    "    for j in range(0,len(images),interval):\n",
    "        clear_output()\n",
    "        print(i)\n",
    "        key = images[j][\"properties\"][\"key\"]\n",
    "        display(Image(url= f\"https://images.mapillary.com/{key}/thumb-320.jpg\"))\n",
    "        a = input(f\"0 = ped, 1 = bic, 2 = car, q=quit, anything_else = next image\\n{data.iloc[i]}\")\n",
    "        if(a==\"q\"):\n",
    "            break\n",
    "        elif(len(a)>0 and (int(a)==0 or int(a)==1 or int(a)==2)):\n",
    "            f.write(f\"{a},{seq}\\n\")\n",
    "            break\n",
    "        else:\n",
    "            if(j+interval>len(images)):\n",
    "                print(\"No type chosen!!!\\n\")\n",
    "                while(True):\n",
    "                    a = input(f\"0 = ped, 1 = bic, 2 = car, q=quit\")\n",
    "                    if(len(a)>0 and (int(a)==0 or int(a)==1 or int(a)==2)):\n",
    "                        f.write(f\"{a},{seq}\\n\")\n",
    "                        break\n",
    "            else:\n",
    "                continue\n",
    "f.close()"
   ]
  },
  {
   "cell_type": "code",
   "execution_count": null,
   "metadata": {},
   "outputs": [],
   "source": []
  },
  {
   "cell_type": "code",
   "execution_count": null,
   "metadata": {},
   "outputs": [],
   "source": []
  }
 ],
 "metadata": {
  "kernelspec": {
   "display_name": "Python 3",
   "language": "python",
   "name": "python3"
  },
  "language_info": {
   "codemirror_mode": {
    "name": "ipython",
    "version": 3
   },
   "file_extension": ".py",
   "mimetype": "text/x-python",
   "name": "python",
   "nbconvert_exporter": "python",
   "pygments_lexer": "ipython3",
   "version": "3.6.8"
  }
 },
 "nbformat": 4,
 "nbformat_minor": 2
}
